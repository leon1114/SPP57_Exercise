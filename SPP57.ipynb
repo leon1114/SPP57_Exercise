{
 "cells": [
  {
   "cell_type": "markdown",
   "metadata": {},
   "source": [
    "# SQL Practice Problems: 57 beginning, intermediate, and advanced challenges for you to solve using a “learn-by-doing” approach"
   ]
  },
  {
   "cell_type": "markdown",
   "metadata": {},
   "source": [
    "- This notebook contains my solution for SQL practice problems from [SPP 57 book](https://www.amazon.com/SQL-Practice-Problems-learn-doing-ebook/dp/B01N41VQFO) "
   ]
  },
  {
   "cell_type": "markdown",
   "metadata": {},
   "source": [
    "# Connecting to MS SQL DB"
   ]
  },
  {
   "cell_type": "code",
   "execution_count": 7,
   "metadata": {},
   "outputs": [],
   "source": [
    "import pyodbc\n",
    "import pandas as pd\n",
    "import os"
   ]
  },
  {
   "cell_type": "code",
   "execution_count": 8,
   "metadata": {},
   "outputs": [],
   "source": [
    "class db_connection:\n",
    "    def __new__(self):\n",
    "        if not hasattr(self,'instance'):\n",
    "            self.instance = super(db_connection, self).__new__(self)\n",
    "            self.conn = pyodbc.connect('Driver={SQL Server};'\n",
    "                      f'Server={os.environ[\"MSSQL_SERVER\"]};'\n",
    "                      'Database=Northwind_SPP;'\n",
    "                      'Trusted_Connection=yes;')\n",
    "        return self.instance\n",
    "    \n",
    "    def get_conn(self):\n",
    "        return self.conn"
   ]
  },
  {
   "cell_type": "markdown",
   "metadata": {},
   "source": [
    "## Execute query using cursor object"
   ]
  },
  {
   "cell_type": "code",
   "execution_count": 3,
   "metadata": {},
   "outputs": [
    {
     "name": "stdout",
     "output_type": "stream",
     "text": [
      "(1, 'Speedy Express', '(503) 555-9831')\n",
      "(2, 'United Package', '(503) 555-3199')\n",
      "(3, 'Federal Shipping', '(503) 555-9931')\n"
     ]
    }
   ],
   "source": [
    "connection = db_connection()\n",
    "conn = connection.get_conn()\n",
    "cursor = conn.cursor()\n",
    "cursor.execute(\"\"\"\n",
    "    SELECT * FROM shippers\n",
    "\"\"\")\n",
    "\n",
    "for row in cursor:\n",
    "    print(row)"
   ]
  },
  {
   "cell_type": "markdown",
   "metadata": {},
   "source": [
    "## Execute query using pd.read_sql_query() "
   ]
  },
  {
   "cell_type": "code",
   "execution_count": 4,
   "metadata": {},
   "outputs": [
    {
     "name": "stdout",
     "output_type": "stream",
     "text": [
      "   ShipperID       CompanyName           Phone\n",
      "0          1    Speedy Express  (503) 555-9831\n",
      "1          2    United Package  (503) 555-3199\n",
      "2          3  Federal Shipping  (503) 555-9931\n",
      "<class 'pandas.core.frame.DataFrame'>\n"
     ]
    }
   ],
   "source": [
    "sql_query = pd.read_sql_query('SELECT * FROM shippers', conn)\n",
    "print(sql_query)\n",
    "print(type(sql_query))"
   ]
  },
  {
   "cell_type": "markdown",
   "metadata": {},
   "source": [
    "- Query result in pandas dataframe looks better, so I'm going to use this approach to execute query and validate result\n",
    "- Let's make a helper function to execute sql query and print result in pandas data frame"
   ]
  },
  {
   "cell_type": "code",
   "execution_count": 9,
   "metadata": {},
   "outputs": [],
   "source": [
    "def sql(query : str)->None:\n",
    "    \"\"\"\n",
    "    Take query as an argument, execute it and print the query result\n",
    "    \n",
    "    Arguments:\n",
    "    query -> string type. Query to execute\n",
    "    \"\"\"\n",
    "    result = pd.read_sql_query(query, db_connection().get_conn())\n",
    "    print(result)"
   ]
  },
  {
   "cell_type": "code",
   "execution_count": 6,
   "metadata": {},
   "outputs": [
    {
     "name": "stdout",
     "output_type": "stream",
     "text": [
      "   ShipperID       CompanyName           Phone\n",
      "0          1    Speedy Express  (503) 555-9831\n",
      "1          2    United Package  (503) 555-3199\n",
      "2          3  Federal Shipping  (503) 555-9931\n"
     ]
    }
   ],
   "source": [
    "sql(\"\"\"SELECT * FROM shippers\"\"\")"
   ]
  },
  {
   "cell_type": "markdown",
   "metadata": {},
   "source": [
    "# DB Diagram for Practice Database\n",
    "![ERD](ERD.PNG)"
   ]
  },
  {
   "cell_type": "markdown",
   "metadata": {},
   "source": [
    "# Introductory Problems\n",
    "## 1. Which shippers do we have?"
   ]
  },
  {
   "cell_type": "code",
   "execution_count": 7,
   "metadata": {},
   "outputs": [
    {
     "name": "stdout",
     "output_type": "stream",
     "text": [
      "   ShipperID       CompanyName           Phone\n",
      "0          1    Speedy Express  (503) 555-9831\n",
      "1          2    United Package  (503) 555-3199\n",
      "2          3  Federal Shipping  (503) 555-9931\n"
     ]
    }
   ],
   "source": [
    "sql(\"\"\"\n",
    "    SELECT * FROM shippers\n",
    "\"\"\")"
   ]
  },
  {
   "cell_type": "markdown",
   "metadata": {},
   "source": [
    "## 2. Certain fields from categories"
   ]
  },
  {
   "cell_type": "code",
   "execution_count": 8,
   "metadata": {},
   "outputs": [
    {
     "name": "stdout",
     "output_type": "stream",
     "text": [
      "     CategoryName                                        Description\n",
      "0       Beverages        Soft drinks, coffees, teas, beers, and ales\n",
      "1      Condiments  Sweet and savory sauces, relishes, spreads, an...\n",
      "2     Confections                Desserts, candies, and sweet breads\n",
      "3  Dairy Products                                            Cheeses\n",
      "4  Grains/Cereals                Breads, crackers, pasta, and cereal\n",
      "5    Meat/Poultry                                     Prepared meats\n",
      "6         Produce                          Dried fruit and bean curd\n",
      "7         Seafood                                   Seaweed and fish\n"
     ]
    }
   ],
   "source": [
    "sql(\"\"\"\n",
    "    SELECT CategoryName, Description FROM Categories\n",
    "\"\"\")"
   ]
  },
  {
   "cell_type": "markdown",
   "metadata": {},
   "source": [
    "## 3. Sales Representatives"
   ]
  },
  {
   "cell_type": "code",
   "execution_count": 6,
   "metadata": {},
   "outputs": [
    {
     "name": "stdout",
     "output_type": "stream",
     "text": [
      "  FirstName   LastName   HireDate\n",
      "0     Nancy    Davolio 2010-05-01\n",
      "1     Janet  Leverling 2010-04-01\n",
      "2  Margaret    Peacock 2011-05-03\n",
      "3   Michael     Suyama 2011-10-17\n",
      "4    Robert       King 2012-01-02\n",
      "5      Anne  Dodsworth 2012-11-15\n"
     ]
    }
   ],
   "source": [
    "sql(\"\"\"\n",
    "    SELECT FirstName, LastName, HireDate FROM Employees\n",
    "    WHERE Title = 'Sales Representative'\n",
    "\"\"\")"
   ]
  },
  {
   "cell_type": "markdown",
   "metadata": {},
   "source": [
    "## 4. Sales Representatives in the United States\n"
   ]
  },
  {
   "cell_type": "code",
   "execution_count": 11,
   "metadata": {},
   "outputs": [
    {
     "name": "stdout",
     "output_type": "stream",
     "text": [
      "  Country\n",
      "0      UK\n",
      "1     USA\n"
     ]
    }
   ],
   "source": [
    "sql(\"\"\"SELECT DISTINCT Country FROM Employees\"\"\")"
   ]
  },
  {
   "cell_type": "code",
   "execution_count": 12,
   "metadata": {},
   "outputs": [
    {
     "name": "stdout",
     "output_type": "stream",
     "text": [
      "  FirstName   LastName   HireDate\n",
      "0     Nancy    Davolio 2010-05-01\n",
      "1     Janet  Leverling 2010-04-01\n",
      "2  Margaret    Peacock 2011-05-03\n"
     ]
    }
   ],
   "source": [
    "sql(\"\"\"\n",
    "    SELECT FirstName, LastName, HireDate From Employees\n",
    "    WHERE Title = 'Sales Representative' and Country = 'USA'\n",
    "\"\"\")"
   ]
  },
  {
   "cell_type": "markdown",
   "metadata": {},
   "source": [
    "## 5. Orders Placed by Specific Employee ID"
   ]
  },
  {
   "cell_type": "code",
   "execution_count": 13,
   "metadata": {},
   "outputs": [
    {
     "name": "stdout",
     "output_type": "stream",
     "text": [
      "    OrderID           OrderDate\n",
      "0     10248 2014-07-04 08:00:00\n",
      "1     10254 2014-07-11 02:00:00\n",
      "2     10269 2014-07-31 00:00:00\n",
      "3     10297 2014-09-04 21:00:00\n",
      "4     10320 2014-10-03 12:00:00\n",
      "5     10333 2014-10-18 18:00:00\n",
      "6     10358 2014-11-20 05:00:00\n",
      "7     10359 2014-11-21 14:00:00\n",
      "8     10372 2014-12-04 10:00:00\n",
      "9     10378 2014-12-10 00:00:00\n",
      "10    10397 2014-12-27 17:00:00\n",
      "11    10463 2015-03-04 13:00:00\n",
      "12    10474 2015-03-13 16:00:00\n",
      "13    10477 2015-03-17 02:00:00\n",
      "14    10529 2015-05-07 01:00:00\n",
      "15    10549 2015-05-27 03:00:00\n",
      "16    10569 2015-06-16 15:00:00\n",
      "17    10575 2015-06-20 22:00:00\n",
      "18    10607 2015-07-22 09:00:00\n",
      "19    10648 2015-08-28 22:00:00\n",
      "20    10649 2015-08-28 00:00:00\n",
      "21    10650 2015-08-29 06:00:00\n",
      "22    10654 2015-09-02 07:00:00\n",
      "23    10675 2015-09-19 06:00:00\n",
      "24    10711 2015-10-21 03:00:00\n",
      "25    10714 2015-10-22 03:00:00\n",
      "26    10721 2015-10-29 08:00:00\n",
      "27    10730 2015-11-05 07:00:00\n",
      "28    10761 2015-12-02 08:00:00\n",
      "29    10812 2016-01-02 02:00:00\n",
      "30    10823 2016-01-09 17:00:00\n",
      "31    10841 2016-01-20 21:00:00\n",
      "32    10851 2016-01-26 00:00:00\n",
      "33    10866 2016-02-03 01:00:00\n",
      "34    10869 2016-02-04 09:00:00\n",
      "35    10870 2016-02-04 12:00:00\n",
      "36    10872 2016-02-05 06:00:00\n",
      "37    10874 2016-02-06 14:00:00\n",
      "38    10899 2016-02-20 09:00:00\n",
      "39    10922 2016-03-03 02:00:00\n",
      "40    10954 2016-03-17 16:00:00\n",
      "41    11043 2016-04-22 17:00:00\n"
     ]
    }
   ],
   "source": [
    "sql(\"\"\"\n",
    "    SELECT OrderID, OrderDate FROM Orders\n",
    "    WHERE EmployeeID = 5\n",
    "\"\"\")"
   ]
  },
  {
   "cell_type": "markdown",
   "metadata": {},
   "source": [
    "## 6. Suppliers and ContactTitles"
   ]
  },
  {
   "cell_type": "code",
   "execution_count": 14,
   "metadata": {},
   "outputs": [
    {
     "name": "stdout",
     "output_type": "stream",
     "text": [
      "    SupplierID                 ContactName                  ContactTitle\n",
      "0            1            Charlotte Cooper            Purchasing Manager\n",
      "1            2               Shelley Burke           Order Administrator\n",
      "2            3               Regina Murphy          Sales Representative\n",
      "3            5  Antonio del Valle Saavedra          Export Administrator\n",
      "4            6                 Mayumi Ohno      Marketing Representative\n",
      "5            8                Peter Wilson          Sales Representative\n",
      "6            9               Lars Peterson                   Sales Agent\n",
      "7           11               Petra Winkler                 Sales Manager\n",
      "8           12                 Martin Bein  International Marketing Mgr.\n",
      "9           13               Sven Petersen   Coordinator Foreign Markets\n",
      "10          14                  Elio Rossi          Sales Representative\n",
      "11          16               Cheryl Saylor         Regional Account Rep.\n",
      "12          17               Michael Björn          Sales Representative\n",
      "13          18              Guylène Nodier                 Sales Manager\n",
      "14          19               Robb Merchant       Wholesale Account Agent\n",
      "15          20                Chandra Leka                         Owner\n",
      "16          21              Niels Petersen                 Sales Manager\n",
      "17          22                 Dirk Luchte            Accounting Manager\n",
      "18          23              Anne Heikkonen               Product Manager\n",
      "19          24             Wendy Mackenzie          Sales Representative\n",
      "20          26            Giovanni Giudici           Order Administrator\n",
      "21          27              Marie Delamare                 Sales Manager\n",
      "22          28                  Eliane Noz          Sales Representative\n",
      "23          29              Chantal Goulet            Accounting Manager\n"
     ]
    }
   ],
   "source": [
    "sql(\"\"\"\n",
    "    SELECT SupplierID, ContactName, ContactTitle\n",
    "    FROM Suppliers\n",
    "    WHERE ContactTitle != 'Marketing Manager'\n",
    "\"\"\")"
   ]
  },
  {
   "cell_type": "markdown",
   "metadata": {},
   "source": [
    "## 7. Products with \"queso\" in ProductName"
   ]
  },
  {
   "cell_type": "code",
   "execution_count": 20,
   "metadata": {},
   "outputs": [
    {
     "name": "stdout",
     "output_type": "stream",
     "text": [
      "   ProductID                ProductName\n",
      "0         11             Queso Cabrales\n",
      "1         12  Queso Manchego La Pastora\n"
     ]
    }
   ],
   "source": [
    "sql(\"\"\"\n",
    "    SELECT ProductID, ProductName\n",
    "    FROM Products\n",
    "    WHERE LOWER(ProductName) LIKE '%queso%'\n",
    "\"\"\")"
   ]
  },
  {
   "cell_type": "markdown",
   "metadata": {},
   "source": [
    "## 8. Orders Shipping to France or Belgium"
   ]
  },
  {
   "cell_type": "code",
   "execution_count": 22,
   "metadata": {},
   "outputs": [
    {
     "name": "stdout",
     "output_type": "stream",
     "text": [
      "    OrderID CustomerID ShipCountry\n",
      "0     10248      VINET      France\n",
      "1     10251      VICTE      France\n",
      "2     10252      SUPRD     Belgium\n",
      "3     10265      BLONP      France\n",
      "4     10274      VINET      France\n",
      "..      ...        ...         ...\n",
      "91    11035      SUPRD     Belgium\n",
      "92    11038      SUPRD     Belgium\n",
      "93    11043      SPECD      France\n",
      "94    11051      LAMAI      France\n",
      "95    11076      BONAP      France\n",
      "\n",
      "[96 rows x 3 columns]\n"
     ]
    }
   ],
   "source": [
    "sql(\"\"\"\n",
    "    SELECT OrderID, CustomerID, ShipCountry\n",
    "    FROM Orders\n",
    "    WHERE ShipCountry in ('France', 'Belgium')\n",
    "\"\"\")"
   ]
  },
  {
   "cell_type": "markdown",
   "metadata": {},
   "source": [
    "## 9. Order Shipping to Any Country in Latin America"
   ]
  },
  {
   "cell_type": "markdown",
   "metadata": {},
   "source": [
    "- Since there's no list of Latin American countries, we're going to just use the list of Latin American countries that happen to be in the Orders table \n",
    "    - Brazil\n",
    "    - Mexico\n",
    "    - Argentina\n",
    "    - Venezuela"
   ]
  },
  {
   "cell_type": "code",
   "execution_count": 23,
   "metadata": {},
   "outputs": [
    {
     "name": "stdout",
     "output_type": "stream",
     "text": [
      "     OrderID CustomerID ShipCountry\n",
      "0      10250      HANAR      Brazil\n",
      "1      10253      HANAR      Brazil\n",
      "2      10256      WELLI      Brazil\n",
      "3      10257      HILAA   Venezuela\n",
      "4      10259      CENTC      Mexico\n",
      "..       ...        ...         ...\n",
      "168    11065      LILAS   Venezuela\n",
      "169    11068      QUEEN      Brazil\n",
      "170    11069      TORTU      Mexico\n",
      "171    11071      LILAS   Venezuela\n",
      "172    11073      PERIC      Mexico\n",
      "\n",
      "[173 rows x 3 columns]\n"
     ]
    }
   ],
   "source": [
    "sql(\"\"\"\n",
    "    SELECT OrderID, CustomerID, ShipCountry\n",
    "    FROM Orders\n",
    "    WHERE ShipCountry IN ('Brazil', 'Mexico', 'Argentina', 'Venezuela')\n",
    "\"\"\")"
   ]
  },
  {
   "cell_type": "markdown",
   "metadata": {},
   "source": [
    "## 10. Employees, in Order of Age"
   ]
  },
  {
   "cell_type": "code",
   "execution_count": 28,
   "metadata": {},
   "outputs": [
    {
     "name": "stdout",
     "output_type": "stream",
     "text": [
      "  FirstName   LastName                     Title  BirthDate\n",
      "0  Margaret    Peacock      Sales Representative 1955-09-19\n",
      "1     Nancy    Davolio      Sales Representative 1966-12-08\n",
      "2    Andrew     Fuller     Vice President, Sales 1970-02-19\n",
      "3    Steven   Buchanan             Sales Manager 1973-03-04\n",
      "4     Laura   Callahan  Inside Sales Coordinator 1976-01-09\n",
      "5    Robert       King      Sales Representative 1978-05-29\n",
      "6   Michael     Suyama      Sales Representative 1981-07-02\n",
      "7     Janet  Leverling      Sales Representative 1981-08-30\n",
      "8      Anne  Dodsworth      Sales Representative 1984-01-27\n"
     ]
    }
   ],
   "source": [
    "sql(\"\"\"\n",
    "    SELECT FirstName, LastName, Title, BirthDate\n",
    "    FROM Employees\n",
    "    ORDER BY BirthDate \n",
    "\"\"\")"
   ]
  },
  {
   "cell_type": "markdown",
   "metadata": {},
   "source": [
    "## 11. Showing Only the Date with a DateTime Field"
   ]
  },
  {
   "cell_type": "code",
   "execution_count": 29,
   "metadata": {},
   "outputs": [
    {
     "name": "stdout",
     "output_type": "stream",
     "text": [
      "  FirstName   LastName                     Title   BirthDate\n",
      "0  Margaret    Peacock      Sales Representative  1955-09-19\n",
      "1     Nancy    Davolio      Sales Representative  1966-12-08\n",
      "2    Andrew     Fuller     Vice President, Sales  1970-02-19\n",
      "3    Steven   Buchanan             Sales Manager  1973-03-04\n",
      "4     Laura   Callahan  Inside Sales Coordinator  1976-01-09\n",
      "5    Robert       King      Sales Representative  1978-05-29\n",
      "6   Michael     Suyama      Sales Representative  1981-07-02\n",
      "7     Janet  Leverling      Sales Representative  1981-08-30\n",
      "8      Anne  Dodsworth      Sales Representative  1984-01-27\n"
     ]
    }
   ],
   "source": [
    "sql(\"\"\"\n",
    "    SELECT FirstName, LastName, Title, CAST(BirthDate as DATE) AS BirthDate \n",
    "    FROM Employees\n",
    "    ORDER BY BirthDate\n",
    "\"\"\")"
   ]
  },
  {
   "cell_type": "markdown",
   "metadata": {},
   "source": [
    "## 12. Employees Full Name"
   ]
  },
  {
   "cell_type": "code",
   "execution_count": 30,
   "metadata": {},
   "outputs": [
    {
     "name": "stdout",
     "output_type": "stream",
     "text": [
      "  FirstName   LastName          FullName\n",
      "0     Nancy    Davolio     Nancy Davolio\n",
      "1    Andrew     Fuller     Andrew Fuller\n",
      "2     Janet  Leverling   Janet Leverling\n",
      "3  Margaret    Peacock  Margaret Peacock\n",
      "4    Steven   Buchanan   Steven Buchanan\n",
      "5   Michael     Suyama    Michael Suyama\n",
      "6    Robert       King       Robert King\n",
      "7     Laura   Callahan    Laura Callahan\n",
      "8      Anne  Dodsworth    Anne Dodsworth\n"
     ]
    }
   ],
   "source": [
    "sql(\"\"\"\n",
    "    SELECT FirstName,\n",
    "           LastName,\n",
    "           (FirstName + ' ' + LastName) AS FullName\n",
    "    FROM Employees\n",
    "\"\"\")"
   ]
  },
  {
   "cell_type": "markdown",
   "metadata": {},
   "source": [
    "- Or, it could be done with CONCAT operator like below."
   ]
  },
  {
   "cell_type": "code",
   "execution_count": 31,
   "metadata": {},
   "outputs": [
    {
     "name": "stdout",
     "output_type": "stream",
     "text": [
      "  FirstName   LastName          FullName\n",
      "0     Nancy    Davolio     Nancy Davolio\n",
      "1    Andrew     Fuller     Andrew Fuller\n",
      "2     Janet  Leverling   Janet Leverling\n",
      "3  Margaret    Peacock  Margaret Peacock\n",
      "4    Steven   Buchanan   Steven Buchanan\n",
      "5   Michael     Suyama    Michael Suyama\n",
      "6    Robert       King       Robert King\n",
      "7     Laura   Callahan    Laura Callahan\n",
      "8      Anne  Dodsworth    Anne Dodsworth\n"
     ]
    }
   ],
   "source": [
    "sql(\"\"\"\n",
    "    SELECT FirstName,\n",
    "           LastName,\n",
    "           CONCAT(FirstName,' ',LastName) AS FullName\n",
    "    FROM Employees\n",
    "\"\"\")"
   ]
  },
  {
   "cell_type": "markdown",
   "metadata": {},
   "source": [
    "## 13. OrderDetails Amount per Line Item"
   ]
  },
  {
   "cell_type": "code",
   "execution_count": 32,
   "metadata": {},
   "outputs": [
    {
     "name": "stdout",
     "output_type": "stream",
     "text": [
      "      OrderID  ProductID  UnitPrice  Quantity  TotalPrice\n",
      "0       10248         11      14.00        12       168.0\n",
      "1       10248         42       9.80        10        98.0\n",
      "2       10248         72      34.80         5       174.0\n",
      "3       10249         14      18.60         9       167.4\n",
      "4       10249         51      42.40        40      1696.0\n",
      "...       ...        ...        ...       ...         ...\n",
      "2150    11077         64      33.25         2        66.5\n",
      "2151    11077         66      17.00         1        17.0\n",
      "2152    11077         73      15.00         2        30.0\n",
      "2153    11077         75       7.75         4        31.0\n",
      "2154    11077         77      13.00         2        26.0\n",
      "\n",
      "[2155 rows x 5 columns]\n"
     ]
    }
   ],
   "source": [
    "sql(\"\"\"\n",
    "    SELECT OrderID,\n",
    "           ProductID,\n",
    "           UnitPrice,\n",
    "           Quantity,\n",
    "           UnitPrice * Quantity AS TotalPrice\n",
    "    FROM OrderDetails\n",
    "\"\"\")"
   ]
  },
  {
   "cell_type": "markdown",
   "metadata": {},
   "source": [
    "## 14. How Many Customers?"
   ]
  },
  {
   "cell_type": "code",
   "execution_count": 33,
   "metadata": {},
   "outputs": [
    {
     "name": "stdout",
     "output_type": "stream",
     "text": [
      "   TotalCustomers\n",
      "0              91\n"
     ]
    }
   ],
   "source": [
    "sql(\"\"\"\n",
    "    SELECT COUNT(*) AS TotalCustomers\n",
    "    FROM Customers\n",
    "\"\"\")"
   ]
  },
  {
   "cell_type": "markdown",
   "metadata": {},
   "source": [
    "## 15. When was the First Order?"
   ]
  },
  {
   "cell_type": "code",
   "execution_count": 40,
   "metadata": {},
   "outputs": [
    {
     "name": "stdout",
     "output_type": "stream",
     "text": [
      "           FirstOrder\n",
      "0 2014-07-04 08:00:00\n"
     ]
    }
   ],
   "source": [
    "sql(\"\"\"\n",
    "    SELECT MIN(OrderDate) AS FirstOrder\n",
    "    FROM Orders\n",
    "\"\"\")"
   ]
  },
  {
   "cell_type": "markdown",
   "metadata": {},
   "source": [
    "## 16. Countries Where There are Customers"
   ]
  },
  {
   "cell_type": "code",
   "execution_count": 41,
   "metadata": {},
   "outputs": [
    {
     "name": "stdout",
     "output_type": "stream",
     "text": [
      "        Country\n",
      "0     Argentina\n",
      "1       Austria\n",
      "2       Belgium\n",
      "3        Brazil\n",
      "4        Canada\n",
      "5       Denmark\n",
      "6       Finland\n",
      "7        France\n",
      "8       Germany\n",
      "9       Ireland\n",
      "10        Italy\n",
      "11       Mexico\n",
      "12       Norway\n",
      "13       Poland\n",
      "14     Portugal\n",
      "15        Spain\n",
      "16       Sweden\n",
      "17  Switzerland\n",
      "18           UK\n",
      "19          USA\n",
      "20    Venezuela\n"
     ]
    }
   ],
   "source": [
    "sql(\"\"\"\n",
    "    SELECT DISTINCT(Country) AS Country\n",
    "    FROM Customers\n",
    "\"\"\")"
   ]
  },
  {
   "cell_type": "markdown",
   "metadata": {},
   "source": [
    "- It could be done using GROUP BY statement, as the hint says"
   ]
  },
  {
   "cell_type": "code",
   "execution_count": 42,
   "metadata": {},
   "outputs": [
    {
     "name": "stdout",
     "output_type": "stream",
     "text": [
      "        Country\n",
      "0     Argentina\n",
      "1       Austria\n",
      "2       Belgium\n",
      "3        Brazil\n",
      "4        Canada\n",
      "5       Denmark\n",
      "6       Finland\n",
      "7        France\n",
      "8       Germany\n",
      "9       Ireland\n",
      "10        Italy\n",
      "11       Mexico\n",
      "12       Norway\n",
      "13       Poland\n",
      "14     Portugal\n",
      "15        Spain\n",
      "16       Sweden\n",
      "17  Switzerland\n",
      "18           UK\n",
      "19          USA\n",
      "20    Venezuela\n"
     ]
    }
   ],
   "source": [
    "sql(\"\"\"\n",
    "    SELECT Country \n",
    "    FROM Customers\n",
    "    GROUP BY Country\n",
    "\"\"\")"
   ]
  },
  {
   "cell_type": "markdown",
   "metadata": {},
   "source": [
    "## 17. Contact Titles for Customers"
   ]
  },
  {
   "cell_type": "code",
   "execution_count": 43,
   "metadata": {},
   "outputs": [
    {
     "name": "stdout",
     "output_type": "stream",
     "text": [
      "                      ContactTitle  TotalContactTitle\n",
      "0                            Owner                 17\n",
      "1             Sales Representative                 17\n",
      "2                Marketing Manager                 12\n",
      "3                    Sales Manager                 11\n",
      "4               Accounting Manager                 10\n",
      "5                  Sales Associate                  7\n",
      "6              Marketing Assistant                  6\n",
      "7                      Sales Agent                  5\n",
      "8            Assistant Sales Agent                  2\n",
      "9              Order Administrator                  2\n",
      "10  Assistant Sales Representative                  1\n",
      "11       Owner/Marketing Assistant                  1\n"
     ]
    }
   ],
   "source": [
    "sql(\"\"\"\n",
    "    SELECT ContactTitle,\n",
    "           COUNT(*) AS TotalContactTitle\n",
    "    FROM Customers\n",
    "    GROUP BY ContactTitle\n",
    "    ORDER BY COUNT(*) DESC\n",
    "\"\"\")"
   ]
  },
  {
   "cell_type": "markdown",
   "metadata": {},
   "source": [
    "## 18. Products with Associated Supplier Names"
   ]
  },
  {
   "cell_type": "code",
   "execution_count": 45,
   "metadata": {},
   "outputs": [
    {
     "name": "stdout",
     "output_type": "stream",
     "text": [
      "    ProductID                      ProductName  \\\n",
      "0           1                             Chai   \n",
      "1           2                            Chang   \n",
      "2           3                    Aniseed Syrup   \n",
      "3           4     Chef Anton's Cajun Seasoning   \n",
      "4           5           Chef Anton's Gumbo Mix   \n",
      "..        ...                              ...   \n",
      "72         73                       Röd Kaviar   \n",
      "73         74                    Longlife Tofu   \n",
      "74         75             Rhönbräu Klosterbier   \n",
      "75         76                     Lakkalikööri   \n",
      "76         77  Original Frankfurter grüne Soße   \n",
      "\n",
      "                          CompanyName  \n",
      "0                      Exotic Liquids  \n",
      "1                      Exotic Liquids  \n",
      "2                      Exotic Liquids  \n",
      "3          New Orleans Cajun Delights  \n",
      "4          New Orleans Cajun Delights  \n",
      "..                                ...  \n",
      "72                  Svensk Sjöföda AB  \n",
      "73                      Tokyo Traders  \n",
      "74  Plutzer Lebensmittelgroßmärkte AG  \n",
      "75                          Karkki Oy  \n",
      "76  Plutzer Lebensmittelgroßmärkte AG  \n",
      "\n",
      "[77 rows x 3 columns]\n"
     ]
    }
   ],
   "source": [
    "sql(\"\"\"\n",
    "    SELECT ProductID, ProductName, CompanyName\n",
    "    FROM Products p\n",
    "    JOIN Suppliers s\n",
    "    ON p.SupplierID = s.SupplierID\n",
    "    ORDER BY ProductID\n",
    "\"\"\")"
   ]
  },
  {
   "cell_type": "markdown",
   "metadata": {},
   "source": [
    "## 19. Orders and the Shippers That was Used"
   ]
  },
  {
   "cell_type": "code",
   "execution_count": 48,
   "metadata": {},
   "outputs": [
    {
     "name": "stdout",
     "output_type": "stream",
     "text": [
      "    OrderID   OrderDate           Shipper\n",
      "0     10248  2014-07-04  Federal Shipping\n",
      "1     10249  2014-07-05    Speedy Express\n",
      "2     10250  2014-07-08    United Package\n",
      "3     10251  2014-07-08    Speedy Express\n",
      "4     10252  2014-07-09    United Package\n",
      "5     10253  2014-07-10    United Package\n",
      "6     10254  2014-07-11    United Package\n",
      "7     10255  2014-07-12  Federal Shipping\n",
      "8     10256  2014-07-15    United Package\n",
      "9     10257  2014-07-16  Federal Shipping\n",
      "10    10258  2014-07-17    Speedy Express\n",
      "11    10259  2014-07-18  Federal Shipping\n",
      "12    10260  2014-07-19    Speedy Express\n",
      "13    10261  2014-07-19    United Package\n",
      "14    10262  2014-07-22  Federal Shipping\n",
      "15    10263  2014-07-23  Federal Shipping\n",
      "16    10264  2014-07-24  Federal Shipping\n",
      "17    10265  2014-07-25    Speedy Express\n",
      "18    10266  2014-07-26  Federal Shipping\n",
      "19    10267  2014-07-29    Speedy Express\n",
      "20    10268  2014-07-30  Federal Shipping\n",
      "21    10269  2014-07-31    Speedy Express\n"
     ]
    }
   ],
   "source": [
    "sql(\"\"\"\n",
    "    SELECT OrderID,\n",
    "           CAST(OrderDate AS DATE) AS OrderDate,\n",
    "           CompanyName AS Shipper\n",
    "    FROM Orders o\n",
    "    JOIN Shippers s\n",
    "    ON o.ShipVia = s.ShipperID\n",
    "    WHERE OrderID < 10270\n",
    "\"\"\")"
   ]
  }
 ],
 "metadata": {
  "kernelspec": {
   "display_name": "Python [conda env:py37] *",
   "language": "python",
   "name": "conda-env-py37-py"
  },
  "language_info": {
   "codemirror_mode": {
    "name": "ipython",
    "version": 3
   },
   "file_extension": ".py",
   "mimetype": "text/x-python",
   "name": "python",
   "nbconvert_exporter": "python",
   "pygments_lexer": "ipython3",
   "version": "3.7.4"
  },
  "toc": {
   "base_numbering": 1,
   "nav_menu": {},
   "number_sections": false,
   "sideBar": true,
   "skip_h1_title": false,
   "title_cell": "Table of Contents",
   "title_sidebar": "Contents",
   "toc_cell": false,
   "toc_position": {},
   "toc_section_display": true,
   "toc_window_display": false
  }
 },
 "nbformat": 4,
 "nbformat_minor": 4
}

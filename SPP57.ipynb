{
 "cells": [
  {
   "cell_type": "markdown",
   "metadata": {},
   "source": [
    "# SQL Practice Problems: 57 beginning, intermediate, and advanced challenges for you to solve using a “learn-by-doing” approach"
   ]
  },
  {
   "cell_type": "markdown",
   "metadata": {},
   "source": [
    "- This notebook contains my solution for SQL practice problems from [SPP 57 book](https://www.amazon.com/SQL-Practice-Problems-learn-doing-ebook/dp/B01N41VQFO) "
   ]
  },
  {
   "cell_type": "markdown",
   "metadata": {},
   "source": [
    "# Connecting to MS SQL DB"
   ]
  },
  {
   "cell_type": "code",
   "execution_count": 1,
   "metadata": {},
   "outputs": [],
   "source": [
    "import pyodbc\n",
    "import pandas as pd\n",
    "import os"
   ]
  },
  {
   "cell_type": "code",
   "execution_count": 2,
   "metadata": {},
   "outputs": [],
   "source": [
    "class db_connection:\n",
    "    def __new__(self):\n",
    "        if not hasattr(self,'instance'):\n",
    "            self.instance = super(db_connection, self).__new__(self)\n",
    "            self.conn = pyodbc.connect('Driver={SQL Server};'\n",
    "                      f'Server={os.environ[\"MSSQL_SERVER\"]};'\n",
    "                      'Database=Northwind_SPP;'\n",
    "                      'Trusted_Connection=yes;')\n",
    "        return self.instance\n",
    "    \n",
    "    def get_conn(self):\n",
    "        return self.conn"
   ]
  },
  {
   "cell_type": "markdown",
   "metadata": {},
   "source": [
    "## Execute query using cursor object"
   ]
  },
  {
   "cell_type": "code",
   "execution_count": 3,
   "metadata": {},
   "outputs": [
    {
     "name": "stdout",
     "output_type": "stream",
     "text": [
      "(1, 'Speedy Express', '(503) 555-9831')\n",
      "(2, 'United Package', '(503) 555-3199')\n",
      "(3, 'Federal Shipping', '(503) 555-9931')\n"
     ]
    }
   ],
   "source": [
    "connection = db_connection()\n",
    "conn = connection.get_conn()\n",
    "cursor = conn.cursor()\n",
    "cursor.execute(\"\"\"\n",
    "    SELECT * FROM shippers\n",
    "\"\"\")\n",
    "\n",
    "for row in cursor:\n",
    "    print(row)"
   ]
  },
  {
   "cell_type": "markdown",
   "metadata": {},
   "source": [
    "## Execute query using pd.read_sql_query() "
   ]
  },
  {
   "cell_type": "code",
   "execution_count": 4,
   "metadata": {},
   "outputs": [
    {
     "name": "stdout",
     "output_type": "stream",
     "text": [
      "   ShipperID       CompanyName           Phone\n",
      "0          1    Speedy Express  (503) 555-9831\n",
      "1          2    United Package  (503) 555-3199\n",
      "2          3  Federal Shipping  (503) 555-9931\n",
      "<class 'pandas.core.frame.DataFrame'>\n"
     ]
    }
   ],
   "source": [
    "sql_query = pd.read_sql_query('SELECT * FROM shippers', conn)\n",
    "print(sql_query)\n",
    "print(type(sql_query))"
   ]
  },
  {
   "cell_type": "markdown",
   "metadata": {},
   "source": [
    "- Query result in pandas dataframe looks better, so I'm going to use this approach to execute query and validate result\n",
    "- Let's make a helper function to execute sql query and print result in pandas data frame"
   ]
  },
  {
   "cell_type": "code",
   "execution_count": 5,
   "metadata": {},
   "outputs": [],
   "source": [
    "def sql(query : str)->None:\n",
    "    \"\"\"\n",
    "    Take query as an argument, execute it and print the query result\n",
    "    \n",
    "    Arguments:\n",
    "    query -> string type. Query to execute\n",
    "    \"\"\"\n",
    "    result = pd.read_sql_query(query, db_connection().get_conn())\n",
    "    print(result)"
   ]
  },
  {
   "cell_type": "code",
   "execution_count": 6,
   "metadata": {},
   "outputs": [
    {
     "name": "stdout",
     "output_type": "stream",
     "text": [
      "   ShipperID       CompanyName           Phone\n",
      "0          1    Speedy Express  (503) 555-9831\n",
      "1          2    United Package  (503) 555-3199\n",
      "2          3  Federal Shipping  (503) 555-9931\n"
     ]
    }
   ],
   "source": [
    "sql(\"\"\"SELECT * FROM shippers\"\"\")"
   ]
  },
  {
   "cell_type": "markdown",
   "metadata": {},
   "source": [
    "# DB Diagram for Practice Database\n",
    "![ERD](ERD.PNG)"
   ]
  },
  {
   "cell_type": "markdown",
   "metadata": {},
   "source": [
    "# Introductory Problems\n",
    "## 1. Which shippers do we have?"
   ]
  },
  {
   "cell_type": "code",
   "execution_count": 7,
   "metadata": {},
   "outputs": [
    {
     "name": "stdout",
     "output_type": "stream",
     "text": [
      "   ShipperID       CompanyName           Phone\n",
      "0          1    Speedy Express  (503) 555-9831\n",
      "1          2    United Package  (503) 555-3199\n",
      "2          3  Federal Shipping  (503) 555-9931\n"
     ]
    }
   ],
   "source": [
    "sql(\"\"\"\n",
    "    SELECT * FROM shippers\n",
    "\"\"\")"
   ]
  },
  {
   "cell_type": "markdown",
   "metadata": {},
   "source": [
    "## 2. Certain fields from categories"
   ]
  },
  {
   "cell_type": "code",
   "execution_count": 8,
   "metadata": {},
   "outputs": [
    {
     "name": "stdout",
     "output_type": "stream",
     "text": [
      "     CategoryName                                        Description\n",
      "0       Beverages        Soft drinks, coffees, teas, beers, and ales\n",
      "1      Condiments  Sweet and savory sauces, relishes, spreads, an...\n",
      "2     Confections                Desserts, candies, and sweet breads\n",
      "3  Dairy Products                                            Cheeses\n",
      "4  Grains/Cereals                Breads, crackers, pasta, and cereal\n",
      "5    Meat/Poultry                                     Prepared meats\n",
      "6         Produce                          Dried fruit and bean curd\n",
      "7         Seafood                                   Seaweed and fish\n"
     ]
    }
   ],
   "source": [
    "sql(\"\"\"\n",
    "    SELECT CategoryName, Description FROM Categories\n",
    "\"\"\")"
   ]
  },
  {
   "cell_type": "markdown",
   "metadata": {},
   "source": [
    "## 3. Sales Representatives"
   ]
  },
  {
   "cell_type": "code",
   "execution_count": 9,
   "metadata": {},
   "outputs": [
    {
     "name": "stdout",
     "output_type": "stream",
     "text": [
      "  FirstName   LastName   HireDate\n",
      "0     Nancy    Davolio 2010-05-01\n",
      "1     Janet  Leverling 2010-04-01\n",
      "2  Margaret    Peacock 2011-05-03\n",
      "3   Michael     Suyama 2011-10-17\n",
      "4    Robert       King 2012-01-02\n",
      "5      Anne  Dodsworth 2012-11-15\n"
     ]
    }
   ],
   "source": [
    "sql(\"\"\"\n",
    "    SELECT FirstName, LastName, HireDate FROM Employees\n",
    "    WHERE Title = 'Sales Representative'\n",
    "\"\"\")"
   ]
  },
  {
   "cell_type": "markdown",
   "metadata": {},
   "source": [
    "## 4. Sales Representatives in the United States\n"
   ]
  }
 ],
 "metadata": {
  "kernelspec": {
   "display_name": "Python [conda env:py37] *",
   "language": "python",
   "name": "conda-env-py37-py"
  },
  "language_info": {
   "codemirror_mode": {
    "name": "ipython",
    "version": 3
   },
   "file_extension": ".py",
   "mimetype": "text/x-python",
   "name": "python",
   "nbconvert_exporter": "python",
   "pygments_lexer": "ipython3",
   "version": "3.7.4"
  },
  "toc": {
   "base_numbering": 1,
   "nav_menu": {},
   "number_sections": false,
   "sideBar": true,
   "skip_h1_title": false,
   "title_cell": "Table of Contents",
   "title_sidebar": "Contents",
   "toc_cell": false,
   "toc_position": {},
   "toc_section_display": true,
   "toc_window_display": false
  }
 },
 "nbformat": 4,
 "nbformat_minor": 4
}

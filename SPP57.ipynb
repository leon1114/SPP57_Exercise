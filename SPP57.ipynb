{
 "cells": [
  {
   "cell_type": "markdown",
   "metadata": {},
   "source": [
    "# SQL Practice Problems: 57 beginning, intermediate, and advanced challenges for you to solve using a “learn-by-doing” approach"
   ]
  },
  {
   "cell_type": "markdown",
   "metadata": {},
   "source": [
    "- This notebook contains my solution for SQL practice problems from [SPP 57 book](https://www.amazon.com/SQL-Practice-Problems-learn-doing-ebook/dp/B01N41VQFO) "
   ]
  },
  {
   "cell_type": "markdown",
   "metadata": {},
   "source": [
    "# Connecting to MS SQL DB"
   ]
  },
  {
   "cell_type": "code",
   "execution_count": null,
   "metadata": {},
   "outputs": [],
   "source": [
    "import pyodbc\n",
    "import pandas as pd\n",
    "import os"
   ]
  },
  {
   "cell_type": "code",
   "execution_count": null,
   "metadata": {},
   "outputs": [],
   "source": [
    "class db_connection:\n",
    "    def __new__(self):\n",
    "        if not hasattr(self,'instance'):\n",
    "            self.instance = super(db_connection, self).__new__(self)\n",
    "            self.conn = pyodbc.connect('Driver={SQL Server};'\n",
    "                      f'Server={os.environ[\"MSSQL_SERVER\"]};'\n",
    "                      'Database=Northwind_SPP;'\n",
    "                      'Trusted_Connection=yes;')\n",
    "        return self.instance\n",
    "    \n",
    "    def get_conn(self):\n",
    "        return self.conn"
   ]
  },
  {
   "cell_type": "markdown",
   "metadata": {},
   "source": [
    "## Execute query using cursor object"
   ]
  },
  {
   "cell_type": "code",
   "execution_count": null,
   "metadata": {},
   "outputs": [],
   "source": [
    "connection = db_connection()\n",
    "conn = connection.get_conn()\n",
    "cursor = conn.cursor()\n",
    "cursor.execute(\"\"\"\n",
    "    SELECT * FROM shippers\n",
    "\"\"\")\n",
    "\n",
    "for row in cursor:\n",
    "    print(row)"
   ]
  },
  {
   "cell_type": "markdown",
   "metadata": {},
   "source": [
    "## Execute query using pd.read_sql_query() "
   ]
  },
  {
   "cell_type": "code",
   "execution_count": null,
   "metadata": {},
   "outputs": [],
   "source": [
    "sql_query = pd.read_sql_query('SELECT * FROM shippers', conn)\n",
    "print(sql_query)\n",
    "print(type(sql_query))"
   ]
  },
  {
   "cell_type": "markdown",
   "metadata": {},
   "source": [
    "- Query result in pandas dataframe looks better, so I'm going to use this approach to execute query and validate result\n",
    "- Let's make a helper function to execute sql query and print result in pandas data frame"
   ]
  },
  {
   "cell_type": "code",
   "execution_count": null,
   "metadata": {},
   "outputs": [],
   "source": [
    "def sql(query : str)->None:\n",
    "    \"\"\"\n",
    "    Take query as an argument, execute it and print the query result\n",
    "    \n",
    "    Arguments:\n",
    "    query -> string type. Query to execute\n",
    "    \"\"\"\n",
    "    result = pd.read_sql_query(query, db_connection().get_conn())\n",
    "    print(result)"
   ]
  },
  {
   "cell_type": "code",
   "execution_count": null,
   "metadata": {},
   "outputs": [],
   "source": [
    "sql(\"\"\"SELECT * FROM shippers\"\"\")"
   ]
  }
 ],
 "metadata": {
  "kernelspec": {
   "display_name": "Python [conda env:py37] *",
   "language": "python",
   "name": "conda-env-py37-py"
  },
  "language_info": {
   "codemirror_mode": {
    "name": "ipython",
    "version": 3
   },
   "file_extension": ".py",
   "mimetype": "text/x-python",
   "name": "python",
   "nbconvert_exporter": "python",
   "pygments_lexer": "ipython3",
   "version": "3.7.4"
  },
  "toc": {
   "base_numbering": 1,
   "nav_menu": {},
   "number_sections": false,
   "sideBar": true,
   "skip_h1_title": false,
   "title_cell": "Table of Contents",
   "title_sidebar": "Contents",
   "toc_cell": false,
   "toc_position": {},
   "toc_section_display": true,
   "toc_window_display": false
  }
 },
 "nbformat": 4,
 "nbformat_minor": 2
}
